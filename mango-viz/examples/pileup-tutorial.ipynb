{
 "cells": [
  {
   "cell_type": "code",
   "execution_count": null,
   "metadata": {
    "collapsed": true
   },
   "outputs": [],
   "source": [
    "################ For testing purposes only ################\n",
    "import os\n",
    "\n",
    "try:\n",
    "    testMode\n",
    "except NameError:\n",
    "    testMode = False\n",
    "\n",
    "try:\n",
    "    alignmentJsonFile\n",
    "except NameError:\n",
    "    # NOTE: this is for a local example. Based on file placement, you may have to change this path\n",
    "    alignmentJsonFile = os.path.join(os.getcwd(), \"data/alignments.ga4gh.chr17.1-250.json\")\n",
    "\n",
    "\n",
    "try:\n",
    "    vcfFile\n",
    "except NameError:\n",
    "    # NOTE: this is for a local example. Based on file placement, you may have to change this path\n",
    "    vcfFile = './data/genodata.v3.vcf'\n",
    "\n",
    "try:\n",
    "    bedFile\n",
    "except NameError:\n",
    "    # NOTE: this is for a local example. Based on file placement, you may have to change this path\n",
    "    bedFile = os.path.join(os.getcwd(), \"../../example-files/chr17.582500-594500.bed\")"
   ]
  },
  {
   "cell_type": "markdown",
   "metadata": {},
   "source": [
    "# Tutorial for pileup widget\n",
    "\n",
    "This tutorial demonstrates how to use the [pileup.js](https://github.com/hammerlab/pileup.js) widget in a Jupyter notebook.\n"
   ]
  },
  {
   "cell_type": "code",
   "execution_count": null,
   "metadata": {
    "scrolled": false
   },
   "outputs": [],
   "source": [
    "# imports \n",
    "import bdgenomics.mango.pileup as pileup\n",
    "from bdgenomics.mango.pileup.track import *\n",
    "import modin.pandas as pd\n"
   ]
  },
  {
   "cell_type": "markdown",
   "metadata": {},
   "source": [
    "## Pileup Example\n",
    "\n",
    "This example shows how to visualize alignments through a Jupyter widget."
   ]
  },
  {
   "cell_type": "code",
   "execution_count": null,
   "metadata": {},
   "outputs": [],
   "source": [
    "# read in JSON\n",
    "readsJson = pd.read_json(alignmentJsonFile)"
   ]
  },
  {
   "cell_type": "code",
   "execution_count": null,
   "metadata": {},
   "outputs": [],
   "source": [
    "GA4GHAlignmentJson = readsJson.to_json()"
   ]
  },
  {
   "cell_type": "code",
   "execution_count": null,
   "metadata": {},
   "outputs": [],
   "source": [
    "# make pileup track\n",
    "tracks=[Track(viz=\"pileup\", label=\"my Reads\", source=pileup.sources.GA4GHAlignmentJson(GA4GHAlignmentJson))]\n",
    "\n",
    "# render tracks in widget\n",
    "reads = pileup.PileupViewer(locus=\"chr17:1-100\", reference=\"hg19\", tracks=tracks)\n",
    "reads\n"
   ]
  },
  {
   "cell_type": "markdown",
   "metadata": {},
   "source": [
    "## Variant Example\n",
    "\n",
    "This example shows how to visualize variants through a Jupyter widget."
   ]
  },
  {
   "cell_type": "code",
   "execution_count": null,
   "metadata": {
    "scrolled": false
   },
   "outputs": [],
   "source": [
    "# make variant track\n",
    "tracks=[Track(viz=\"variants\", label=\"my Variants\", source=pileup.sources.VcfDataSource(vcfFile))]\n",
    "\n",
    "# render tracks in widget\n",
    "variants = pileup.PileupViewer(locus=\"chr1:10436-10564\", reference=\"hg19\", tracks=tracks)\n",
    "variants"
   ]
  },
  {
   "cell_type": "markdown",
   "metadata": {},
   "source": [
    "## Feature Example\n",
    "\n",
    "This example shows how to visualize features through a Jupyter widget."
   ]
  },
  {
   "cell_type": "code",
   "execution_count": null,
   "metadata": {},
   "outputs": [],
   "source": [
    "featuresData = read_bed(bedFile)\n",
    "featuresData.head()"
   ]
  },
  {
   "cell_type": "code",
   "execution_count": null,
   "metadata": {
    "scrolled": false
   },
   "outputs": [],
   "source": [
    "# make feature track\n",
    "tracks=[Track(viz=\"features\", label=\"my features\", source=pileup.sources.DataFrameSource(featuresData))]\n",
    "\n",
    "features = pileup.PileupViewer(locus=\"chr17:167398-461054\", reference=\"hg19\", tracks=tracks)\n",
    "features"
   ]
  },
  {
   "cell_type": "markdown",
   "metadata": {
    "collapsed": true
   },
   "source": [
    "## Genotype Example\n",
    "\n",
    "This example shows how to visualize genotypes through a Jupyter widget."
   ]
  },
  {
   "cell_type": "code",
   "execution_count": null,
   "metadata": {},
   "outputs": [],
   "source": [
    "# make genotype track\n",
    "tracks=[Track(viz=\"genotypes\", label=\"my Genotypes\", source=pileup.sources.VcfDataSource(vcfFile))]\n",
    "\n",
    "# render tracks in widget\n",
    "genotypes = pileup.PileupViewer(locus=\"chr22:21340030-21340150\", reference=\"hg19\", tracks=tracks)\n",
    "genotypes"
   ]
  },
  {
   "cell_type": "code",
   "execution_count": null,
   "metadata": {
    "collapsed": true
   },
   "outputs": [],
   "source": []
  }
 ],
 "metadata": {
  "kernelspec": {
   "display_name": "Python 2",
   "language": "python",
   "name": "python2"
  },
  "language_info": {
   "codemirror_mode": {
    "name": "ipython",
    "version": 2
   },
   "file_extension": ".py",
   "mimetype": "text/x-python",
   "name": "python",
   "nbconvert_exporter": "python",
   "pygments_lexer": "ipython2",
   "version": "2.7.12"
  }
 },
 "nbformat": 4,
 "nbformat_minor": 2
}

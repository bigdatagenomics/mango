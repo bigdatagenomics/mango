{
 "cells": [
  {
   "cell_type": "code",
   "execution_count": 1,
   "metadata": {},
   "outputs": [
    {
     "name": "stderr",
     "output_type": "stream",
     "text": [
      "2019-06-11 15:54:38,031\tINFO node.py:497 -- Process STDOUT and STDERR is being redirected to /tmp/ray/session_2019-06-11_15-54-37_975864_2330/logs.\n",
      "2019-06-11 15:54:38,141\tINFO services.py:409 -- Waiting for redis server at 127.0.0.1:58168 to respond...\n"
     ]
    },
    {
     "name": "stdout",
     "output_type": "stream",
     "text": [
      "in io module\n"
     ]
    },
    {
     "name": "stderr",
     "output_type": "stream",
     "text": [
      "2019-06-11 15:54:38,366\tINFO services.py:409 -- Waiting for redis server at 127.0.0.1:65415 to respond...\n",
      "2019-06-11 15:54:38,372\tINFO services.py:806 -- Starting Redis shard with 3.44 GB max memory.\n",
      "2019-06-11 15:54:38,393\tINFO node.py:511 -- Process STDOUT and STDERR is being redirected to /tmp/ray/session_2019-06-11_15-54-37_975864_2330/logs.\n",
      "2019-06-11 15:54:38,400\tINFO services.py:1441 -- Starting the Plasma object store with 10.0 GB memory using /tmp.\n"
     ]
    }
   ],
   "source": [
    "import modin.pandas as pd\n",
    "import bdgenomics.mango.pileup as pileup\n",
    "from bdgenomics.mango.pileup.track import *"
   ]
  },
  {
   "cell_type": "markdown",
   "metadata": {},
   "source": [
    "## Pileup Visualization Example\n",
    "\n",
    "This example shows how you can use a modin data frame to visualise genomic data."
   ]
  },
  {
   "cell_type": "code",
   "execution_count": 2,
   "metadata": {},
   "outputs": [
    {
     "name": "stdout",
     "output_type": "stream",
     "text": [
      "tab seperated here\n"
     ]
    },
    {
     "name": "stderr",
     "output_type": "stream",
     "text": [
      "UserWarning: `DataFrame.to_json` defaulting to pandas implementation.\n",
      "To request implementation, send an email to feature_requests@modin.org.\n"
     ]
    },
    {
     "data": {
      "text/plain": [
       "'{\"chr17\":{\"0\":\"chr17\",\"1\":\"chr17\",\"2\":\"chr17\",\"3\":\"chr17\",\"4\":\"chr17\",\"5\":\"chr17\",\"6\":\"chr17\",\"7\":\"chr17\",\"8\":\"chr17\"},\"5821\":{\"0\":62296,\"1\":62296,\"2\":260433,\"3\":290007,\"4\":369120,\"5\":382698,\"6\":582596,\"7\":582596,\"8\":594410},\"31270\":{\"0\":202576,\"1\":202576,\"2\":264713,\"3\":295959,\"4\":564751,\"5\":564758,\"6\":592824,\"7\":592824,\"8\":602251}}'"
      ]
     },
     "execution_count": 2,
     "metadata": {},
     "output_type": "execute_result"
    }
   ],
   "source": [
    "data = pd.read_table('data/chr17.582500-594500.bed')\n",
    "data.head()\n",
    "\n",
    "raw_json = data.to_json()\n",
    "raw_json\n"
   ]
  },
  {
   "cell_type": "code",
   "execution_count": 3,
   "metadata": {},
   "outputs": [
    {
     "name": "stderr",
     "output_type": "stream",
     "text": [
      "UserWarning: `DataFrame.to_json` defaulting to pandas implementation.\n"
     ]
    }
   ],
   "source": [
    "tracks=[Track(viz=\"features\", label=\"my features\", source=pileup.sources.DataFrameSource(data))]"
   ]
  },
  {
   "cell_type": "code",
   "execution_count": 4,
   "metadata": {},
   "outputs": [
    {
     "data": {
      "application/vnd.jupyter.widget-view+json": {
       "model_id": "ee0b436e3b9b4425a22021725a95b330",
       "version_major": 2,
       "version_minor": 0
      },
      "text/plain": [
       "A Jupyter Widget"
      ]
     },
     "metadata": {},
     "output_type": "display_data"
    }
   ],
   "source": [
    "# render tracks in widget\n",
    "reads = pileup.PileupViewer(locus=\"chr17:10436-10564\", reference=\"hg19\", tracks=tracks)\n",
    "reads"
   ]
  },
  {
   "cell_type": "code",
   "execution_count": null,
   "metadata": {},
   "outputs": [],
   "source": []
  }
 ],
 "metadata": {
  "kernelspec": {
   "display_name": "Python 3",
   "language": "python",
   "name": "python3"
  },
  "language_info": {
   "codemirror_mode": {
    "name": "ipython",
    "version": 3
   },
   "file_extension": ".py",
   "mimetype": "text/x-python",
   "name": "python",
   "nbconvert_exporter": "python",
   "pygments_lexer": "ipython3",
   "version": "3.7.1"
  }
 },
 "nbformat": 4,
 "nbformat_minor": 2
}

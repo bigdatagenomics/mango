{
 "cells": [
  {
   "cell_type": "markdown",
   "metadata": {},
   "source": [
    "# mango-python-alignment"
   ]
  },
  {
   "cell_type": "code",
   "execution_count": null,
   "metadata": {},
   "outputs": [],
   "source": [
    "import os\n",
    "################ For testing purposes only ################\n",
    "try:\n",
    "   testMode\n",
    "except NameError:\n",
    "   testMode = False\n",
    "\n",
    "try:\n",
    "    alignmentFile\n",
    "except NameError:\n",
    "   # NOTE: this is for a local example. Based on file placement, you may have to change this path\n",
    "    alignmentFile = os.getcwd() + \"/../../example-files/chr17.7500000-7515000.sam.adam\""
   ]
  },
  {
   "cell_type": "code",
   "execution_count": null,
   "metadata": {},
   "outputs": [],
   "source": [
    "from bdgenomics.adam.adamContext import ADAMContext\n",
    "from bdgenomics.adam.rdd import AlignmentRecordRDD, CoverageRDD\n",
    "\n",
    "from bdgenomics.mango.QC import  AlignmentDistribution"
   ]
  },
  {
   "cell_type": "code",
   "execution_count": null,
   "metadata": {},
   "outputs": [],
   "source": [
    "try:\n",
    "    spark\n",
    "except NameError:\n",
    "    from pyspark.sql import SparkSession\n",
    "    spark = SparkSession.builder.master(\"local\").getOrCreate()\n",
    "try:\n",
    "   ac\n",
    "except NameError:\n",
    "   ac = ADAMContext(spark)\n",
    "\n",
    "# load file\n",
    "alignment = ac.loadAlignments(alignmentFile)"
   ]
  },
  {
   "cell_type": "code",
   "execution_count": null,
   "metadata": {},
   "outputs": [],
   "source": [
    "ad = AlignmentDistribution(spark, alignment, bin_size=500)"
   ]
  },
  {
   "cell_type": "code",
   "execution_count": null,
   "metadata": {},
   "outputs": [],
   "source": [
    "results = ad.plot(plotType=\"I\", testMode=testMode)"
   ]
  },
  {
   "cell_type": "code",
   "execution_count": null,
   "metadata": {},
   "outputs": [],
   "source": []
  }
 ],
 "metadata": {
  "kernelspec": {
   "display_name": "Python 2",
   "language": "python",
   "name": "python2"
  },
  "language_info": {
   "codemirror_mode": {
    "name": "ipython",
    "version": 2
   },
   "file_extension": ".py",
   "mimetype": "text/x-python",
   "name": "python",
   "nbconvert_exporter": "python",
   "pygments_lexer": "ipython2",
   "version": "2.7.10"
  }
 },
 "nbformat": 4,
 "nbformat_minor": 2
}

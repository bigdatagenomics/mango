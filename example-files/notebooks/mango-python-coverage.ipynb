{
 "cells": [
  {
   "cell_type": "code",
   "execution_count": null,
   "metadata": {},
   "outputs": [],
   "source": [
    "################ For testing purposes only ################\n",
    "try:\n",
    "   testMode\n",
    "except NameError:\n",
    "   testMode = False\n",
    "\n",
    "try:\n",
    "    alignmentFile\n",
    "except NameError:\n",
    "   # NOTE: this is for a local example. Based on file placement, you may have to change this path\n",
    "    alignmentFile = os.getcwd() + \"/../chr17.7500000-7515000.sam\""
   ]
  },
  {
   "cell_type": "code",
   "execution_count": null,
   "metadata": {},
   "outputs": [],
   "source": [
    "import os \n",
    "\n",
    "from bdgenomics.adam.adamContext import ADAMContext\n",
    "from bdgenomics.adam.ds import AlignmentDataset, CoverageDataset\n",
    "\n",
    "from bdgenomics.mango.coverage import CoverageDistribution\n",
    "import matplotlib.pyplot as plt"
   ]
  },
  {
   "cell_type": "code",
   "execution_count": null,
   "metadata": {},
   "outputs": [],
   "source": [
    "ac = ADAMContext(spark)\n",
    "\n",
    "# load file\n",
    "alignments = ac.loadAlignments(alignmentFile)\n",
    "coverage = alignments.toCoverage()"
   ]
  },
  {
   "cell_type": "code",
   "execution_count": null,
   "metadata": {},
   "outputs": [],
   "source": [
    "cd = CoverageDistribution(spark, coverage, bin_size = 1)"
   ]
  },
  {
   "cell_type": "code",
   "execution_count": null,
   "metadata": {},
   "outputs": [],
   "source": [
    "ax, results = cd.plotDistributions(cumulative=False, testMode=testMode)\n",
    "if (ax != None):\n",
    "    ax.set_title(\"Coverage Distribution\")\n",
    "    ax.set_ylabel(\"Counts\")\n",
    "    ax.set_xlabel(\"Coverage Depth\")\n",
    "    plt.show()"
   ]
  },
  {
   "cell_type": "code",
   "execution_count": null,
   "metadata": {},
   "outputs": [],
   "source": []
  }
 ],
 "metadata": {
  "kernelspec": {
   "display_name": "Python 2",
   "language": "python",
   "name": "python2"
  },
  "language_info": {
   "codemirror_mode": {
    "name": "ipython",
    "version": 2
   },
   "file_extension": ".py",
   "mimetype": "text/x-python",
   "name": "python",
   "nbconvert_exporter": "python",
   "pygments_lexer": "ipython2",
   "version": "2.7.15"
  }
 },
 "nbformat": 4,
 "nbformat_minor": 1
}

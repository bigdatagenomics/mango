{
 "cells": [
  {
   "cell_type": "code",
   "execution_count": null,
   "metadata": {},
   "outputs": [],
   "source": [
    "import os \n",
    "from bdgenomics.adam.adamContext import ADAMContext\n",
    "from bdgenomics.mango.genotypes import *\n",
    "import matplotlib.pyplot as plt"
   ]
  },
  {
   "cell_type": "code",
   "execution_count": null,
   "metadata": {},
   "outputs": [],
   "source": [
    "################ For testing purposes only ################\n",
    "try:\n",
    "   testMode\n",
    "except NameError:\n",
    "   testMode = False\n",
    "\n",
    "try:\n",
    "    vcfFile\n",
    "except NameError:\n",
    "   # NOTE: this is for a local example. Based on file placement, you may have to change this path\n",
    "    vcfFile = os.getcwd() + \"/../genodata.v3.vcf\""
   ]
  },
  {
   "cell_type": "markdown",
   "metadata": {},
   "source": [
    "# Mango variant visualization tools \n"
   ]
  },
  {
   "cell_type": "markdown",
   "metadata": {},
   "source": [
    "### Load Genotypes"
   ]
  },
  {
   "cell_type": "code",
   "execution_count": null,
   "metadata": {},
   "outputs": [],
   "source": [
    "ac = ADAMContext(spark)\n",
    "genotypes = ac.loadGenotypes(vcfFile)"
   ]
  },
  {
   "cell_type": "markdown",
   "metadata": {},
   "source": [
    "## Create Summary for Genotype Data"
   ]
  },
  {
   "cell_type": "code",
   "execution_count": null,
   "metadata": {},
   "outputs": [],
   "source": [
    "gd = GenotypeSummary(spark, ac, genotypes, sample=0.8)"
   ]
  },
  {
   "cell_type": "markdown",
   "metadata": {},
   "source": [
    "### Plot histogram of Variant Count per Sample"
   ]
  },
  {
   "cell_type": "code",
   "execution_count": null,
   "metadata": {},
   "outputs": [],
   "source": [
    "variantDist = gd.getVariantsPerSampleDistribution()"
   ]
  },
  {
   "cell_type": "code",
   "execution_count": null,
   "metadata": {},
   "outputs": [],
   "source": [
    "ax, results = variantDist.plotDistributions(bins=100, testMode=testMode)\n",
    "\n",
    "if(ax != None and not testMode):\n",
    "    ax.set_title(\"Histogram of Variant Count per Sample\")\n",
    "    ax.set_xlabel(\"Number of Variants\")\n",
    "    ax.set_ylabel(\"Count of Samples\")\n",
    "    plt.show()"
   ]
  },
  {
   "cell_type": "markdown",
   "metadata": {},
   "source": [
    "### Plot Histogram of Heterozygote/Homozygote Ration per Sample"
   ]
  },
  {
   "cell_type": "code",
   "execution_count": null,
   "metadata": {},
   "outputs": [],
   "source": [
    "hetHomDist = gd.getHetHomRatioDistribution()\n",
    "ax, results = hetHomDist.plot()\n",
    "\n",
    "if(ax != None and not testMode):\n",
    "    ax.set_title(\"Histogram of Heterozygote/Homozygote Distribution Per Sample\")\n",
    "    ax.set_xlabel(\"(Heterozygote / Non-ref Homozyote) Ratio\")\n",
    "    ax.set_ylabel(\"Count of Samples\")\n",
    "    plt.show()"
   ]
  },
  {
   "cell_type": "markdown",
   "metadata": {},
   "source": [
    "### Plot Histogram of variant Call Rate per Sample"
   ]
  },
  {
   "cell_type": "code",
   "execution_count": null,
   "metadata": {},
   "outputs": [],
   "source": [
    "callRateDist = gd.getGenotypeCallRatesDistribution()\n",
    "ax, results = callRateDist.plot()\n",
    "\n",
    "if(ax != None and not testMode):\n",
    "    ax.set_title(\"Histogram of Call Rate Distribution Per Sample\")\n",
    "    ax.set_xlabel(\"(Called Variants / Total Variants) Ratio\")\n",
    "    ax.set_ylabel(\"Count of Samples\")\n",
    "    plt.show()"
   ]
  }
 ],
 "metadata": {
  "kernelspec": {
   "display_name": "Python 2",
   "language": "python",
   "name": "python2"
  },
  "language_info": {
   "codemirror_mode": {
    "name": "ipython",
    "version": 2
   },
   "file_extension": ".py",
   "mimetype": "text/x-python",
   "name": "python",
   "nbconvert_exporter": "python",
   "pygments_lexer": "ipython2",
   "version": "2.7.10"
  }
 },
 "nbformat": 4,
 "nbformat_minor": 2
}

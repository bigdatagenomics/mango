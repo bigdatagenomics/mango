{
 "cells": [
  {
   "cell_type": "markdown",
   "metadata": {},
   "source": [
    "# Mango variant visualization tools \n",
    "bdgenomics.mango.variantViz\n",
    "\n",
    "Note: where “population” is required as a parameters such as “AF_AFR” - allele frequency African/African American, see list of populations at: https://macarthurlab.org/2017/02/27/the-genome-aggregation-database-gnomad/\n",
    "\n",
    "### Load data"
   ]
  },
  {
   "cell_type": "code",
   "execution_count": null,
   "metadata": {},
   "outputs": [],
   "source": [
    "%matplotlib inline\n",
    "from bdgenomics.adam.adamContext import ADAMContext\n",
    "from bdgenomics.adam.rdd import AlignmentRecordRDD, CoverageRDD\n",
    "ac = ADAMContext(spark)\n",
    "data = ac.loadVariants(\"../../mango-core/src/test/resources/exome_chr22.adam\")\n",
    "data_geno = ac.loadGenotypes(\"../../mango-core/src/test/resources/geno.test1.adam\")"
   ]
  },
  {
   "cell_type": "markdown",
   "metadata": {},
   "source": [
    "### Plot variant density across chromosome region"
   ]
  },
  {
   "cell_type": "code",
   "execution_count": null,
   "metadata": {
    "scrolled": true
   },
   "outputs": [],
   "source": [
    "from bdgenomics.mango.variantViz import VariantsGenomicRegion\n",
    "\"\"\"\n",
    "class VariantsGenomicRegion\n",
    ":param ss: SparkContext \n",
    ":param variantRDD: bdgenomics variantRDD\n",
    ":param start: genomic start position\n",
    ":param end:  genomic stop position\n",
    ":param contigName: contig name\n",
    "\"\"\"\n",
    "# create graph object\n",
    "graph = VariantsGenomicRegion(spark,data, start=0, end=1000000000,contigName=\"22\")\n",
    "# call plot function\n",
    "graph_data = graph.plot()"
   ]
  },
  {
   "cell_type": "markdown",
   "metadata": {},
   "source": [
    "### Plot Histogram of Quality By Depth (QD) score from a variant dataset"
   ]
  },
  {
   "cell_type": "code",
   "execution_count": null,
   "metadata": {},
   "outputs": [],
   "source": [
    "from bdgenomics.mango.variantViz import QDDist\n",
    "\"\"\"\n",
    "class QDDist\n",
    ":param ss: SparkContext \n",
    ":param variantRDD: bdgenomics variantRDD\n",
    "\"\"\"\n",
    "# create graph object\n",
    "graph= QDDist(spark,data)\n",
    "# call plot function\n",
    "graph_data = graph.plot()\n"
   ]
  },
  {
   "cell_type": "markdown",
   "metadata": {},
   "source": [
    "### Plot Histogram of the heterozygote/homozygote genotype ratio"
   ]
  },
  {
   "cell_type": "code",
   "execution_count": null,
   "metadata": {},
   "outputs": [],
   "source": [
    "from bdgenomics.mango.variantViz import HetHomRatioPerSample\n",
    "\"\"\"\n",
    "class HetHomRatioPerSample\n",
    ":param ss: SparkContext \n",
    ":param genotypeRDD: bdgenomics genotypeRDD\n",
    "\"\"\"\n",
    "graph = HetHomRatioPerSample(spark, data_geno)\n",
    "graph_data = graph.plot()"
   ]
  },
  {
   "cell_type": "markdown",
   "metadata": {},
   "source": [
    "### Plot histogram of callrate per sample"
   ]
  },
  {
   "cell_type": "code",
   "execution_count": null,
   "metadata": {},
   "outputs": [],
   "source": [
    "from bdgenomics.mango.variantViz import CallRatePerSample\n",
    "# create graph object\n",
    "graph = CallRatePerSample(spark,data_geno)\n",
    "# call plot function\n",
    "graph_data = graph.plot()\n"
   ]
  },
  {
   "cell_type": "code",
   "execution_count": null,
   "metadata": {},
   "outputs": [],
   "source": []
  }
 ],
 "metadata": {
  "kernelspec": {
   "display_name": "Python 2",
   "language": "python",
   "name": "python2"
  },
  "language_info": {
   "codemirror_mode": {
    "name": "ipython",
    "version": 2
   },
   "file_extension": ".py",
   "mimetype": "text/x-python",
   "name": "python",
   "nbconvert_exporter": "python",
   "pygments_lexer": "ipython2",
   "version": "2.7.15"
  }
 },
 "nbformat": 4,
 "nbformat_minor": 2
}

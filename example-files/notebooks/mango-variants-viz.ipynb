{
 "cells": [
  {
   "cell_type": "markdown",
   "metadata": {},
   "source": [
    "# Mango variant visualization tools \n",
    "bdgenomics.mango.variantViz\n",
    "\n",
    "Note: where “population” is required as a parameters such as “AF_AFR” - allele frequency African/African American, see list of populations at: https://macarthurlab.org/2017/02/27/the-genome-aggregation-database-gnomad/\n",
    "\n",
    "### Load data"
   ]
  },
  {
   "cell_type": "code",
   "execution_count": null,
   "metadata": {},
   "outputs": [],
   "source": [
    "%matplotlib inline\n",
    "from bdgenomics.adam.adamContext import ADAMContext\n",
    "from bdgenomics.adam.rdd import AlignmentRecordRDD, CoverageRDD\n",
    "import matplotlib.pyplot as plt\n",
    "ac = ADAMContext(spark)\n",
    "data = ac.loadVariants(\"../../mango-core/src/test/resources/exome_chr22.adam\")\n",
    "data_geno = ac.loadGenotypes(\"../../mango-core/src/test/resources/geno.test1.adam\")"
   ]
  },
  {
   "cell_type": "markdown",
   "metadata": {},
   "source": [
    "### Plot variant density across chromosome region"
   ]
  },
  {
   "cell_type": "code",
   "execution_count": null,
   "metadata": {
    "scrolled": true
   },
   "outputs": [],
   "source": [
    "from bdgenomics.mango.variantViz import VariantDensityDistribution\n",
    "\n",
    "#Retrieve position binned density\n",
    "contigName=\"22\"\n",
    "varDensityData = VariantDensityDistribution(spark,data, start=0, end=1000000000,contigName=contigName)\n",
    "position_bin, variant_count = varDensityData.plot()\n",
    "\n",
    "#Plot\n",
    "plt.plot( position_bin, variant_count)\n",
    "plt.title(\"Variant density on chromosome \" + contigName)\n",
    "plt.xlabel(\"position (MB)\")\n",
    "plt.ylabel(\"Variant Count / MB\")\n",
    "plt.show()"
   ]
  },
  {
   "cell_type": "markdown",
   "metadata": {},
   "source": [
    "### Plot Histogram of Quality By Depth (QD) score from a variant dataset"
   ]
  },
  {
   "cell_type": "code",
   "execution_count": null,
   "metadata": {},
   "outputs": [],
   "source": [
    "from bdgenomics.mango.variantViz import QualityByDepthDistribution\n",
    "\n",
    "graphData = QualityByDepthDistribution(spark,data).plot()\n",
    "\n",
    "plt.hist(graphData.keys(),weights=graphData.values(),bins=80)\n",
    "plt.title(\"Quality By Depth (QD) Score Distribution\")\n",
    "plt.xlabel(\"QD\")\n",
    "plt.ylabel(\"Variant Sites\")\n",
    "plt.show()"
   ]
  },
  {
   "cell_type": "markdown",
   "metadata": {},
   "source": [
    "### Plot Histogram of the heterozygote/homozygote genotype ratio"
   ]
  },
  {
   "cell_type": "code",
   "execution_count": null,
   "metadata": {},
   "outputs": [],
   "source": [
    "from bdgenomics.mango.variantViz import HetHomRatioDistribution\n",
    "\n",
    "graphData = HetHomRatioDistribution(spark, data_geno).plot()\n",
    "\n",
    "plt.hist(graphData,bins=100)\n",
    "plt.title(\"Histogram of Het/Hom Ratio\")\n",
    "plt.xlabel(\"Het/Hom Ratio\")\n",
    "plt.ylabel(\"Sample Count\")\n",
    "plt.show()\n"
   ]
  },
  {
   "cell_type": "markdown",
   "metadata": {},
   "source": [
    "### Plot histogram of callrate per sample"
   ]
  },
  {
   "cell_type": "code",
   "execution_count": null,
   "metadata": {},
   "outputs": [],
   "source": [
    "from bdgenomics.mango.variantViz import GenotypeCallRatesDistribution\n",
    "\n",
    "# compute graph data\n",
    "graphData = GenotypeCallRatesDistribution(spark,data_geno).plot()\n",
    "\n",
    "# Plot graph\n",
    "plt.hist(graphData,100)\n",
    "plt.title(\"Histogram of Call Rate per Sample\")\n",
    "plt.xlabel(\"Call Rate\")\n",
    "plt.ylabel(\"Sample Count\")\n",
    "plt.show()\n",
    "\n"
   ]
  },
  {
   "cell_type": "code",
   "execution_count": null,
   "metadata": {},
   "outputs": [],
   "source": [
    "### Plot histogram of Variant Count per Sample"
   ]
  },
  {
   "cell_type": "code",
   "execution_count": null,
   "metadata": {},
   "outputs": [],
   "source": [
    "from bdgenomics.mango.variantViz import VariantsPerSampleDistribution\n",
    "\n",
    "# compute graph data\n",
    "graphData = VariantsPerSampleDistribution(spark,data_geno).plot()\n",
    "\n",
    "# Plot graph\n",
    "plt.hist(graphData,100)\n",
    "plt.title(\"Histogram of Variant Count per Sample\")\n",
    "plt.xlabel(\"Number of Variants\")\n",
    "plt.ylabel(\"Count of Samples\")\n",
    "plt.show()\n"
   ]
  },
  {
   "cell_type": "code",
   "execution_count": null,
   "metadata": {},
   "outputs": [],
   "source": []
  }
 ],
 "metadata": {
  "kernelspec": {
   "display_name": "Python 2",
   "language": "python",
   "name": "python2"
  },
  "language_info": {
   "codemirror_mode": {
    "name": "ipython",
    "version": 2
   },
   "file_extension": ".py",
   "mimetype": "text/x-python",
   "name": "python",
   "nbconvert_exporter": "python",
   "pygments_lexer": "ipython2",
   "version": "2.7.15"
  }
 },
 "nbformat": 4,
 "nbformat_minor": 2
}
